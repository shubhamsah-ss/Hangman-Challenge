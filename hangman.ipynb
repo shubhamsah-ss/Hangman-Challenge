{
 "cells": [
  {
   "cell_type": "code",
   "execution_count": 1,
   "metadata": {},
   "outputs": [
    {
     "name": "stdout",
     "output_type": "stream",
     "text": [
      "Welcome to Hangman\n",
      "You get 5 guesses\n",
      "['_', 'a', '_', '_', '_', '_']\n",
      "['_', 'a', 'c', '_', '_', '_']\n",
      "['h', 'a', 'c', '_', '_', '_']\n",
      "['h', 'a', 'c', '_', '_', '_']\n",
      "['h', 'a', 'c', '_', '_', '_']\n",
      "['h', 'a', 'c', '_', '_', '_']\n",
      "['h', 'a', 'c', '_', '_', '_']\n",
      "['h', 'a', 'c', '_', '_', '_']\n",
      "['h', 'a', 'c', '_', '_', '_']\n",
      "['h', 'a', 'c', '_', 'e', '_']\n",
      "['h', 'a', 'c', '_', 'e', 'r']\n",
      "['h', 'a', 'c', 'k', 'e', 'r']\n",
      "You win\n",
      "The correct word: hacker\n"
     ]
    }
   ],
   "source": [
    "# importing random module.\n",
    "import random\n",
    "\n",
    "# greeting\n",
    "print(\"Welcome to Hangman\")\n",
    "\n",
    "# list of words\n",
    "words = [\"hacker\", \"bounty\", \"random\"]\n",
    "\n",
    "# empty list\n",
    "display_word = []\n",
    "\n",
    "# random word from the list of words\n",
    "secret_word = random.choice(words)\n",
    "\n",
    "# converting letter to _ \n",
    "for letter in secret_word:\n",
    "    display_word += \"_\"\n",
    "\n",
    "# Informing user 5 guesses\n",
    "print(\"You get 5 guesses\")\n",
    "\n",
    "# counter variable\n",
    "num = 0 \n",
    "\n",
    "# game loop\n",
    "game_over = False\n",
    "while not game_over:\n",
    "    # ask user to guess a letter and making it lowercase\n",
    "    guess = input(\"Guess a letter \").lower()\n",
    "    \n",
    "    # checking if letter is in chosen word and if it is then replacing _ to the letter\n",
    "    for position in range(len(secret_word)):\n",
    "        letter = secret_word[position]\n",
    "        if letter == guess:\n",
    "            display_word[position] = letter\n",
    "            \n",
    "    # displaying guessed word position after every guess\n",
    "    print(display_word)\n",
    "    \n",
    "    # tracking number of wrong guesses\n",
    "    if guess not in secret_word:\n",
    "        # incrementing on every wrong guess\n",
    "        num += 1\n",
    "        \n",
    "        # informing number of guesses left to the user\n",
    "        guesses_left = 5 - num\n",
    "        print(f\"You have {guesses_left} guesses left\")\n",
    "        if num >=5:\n",
    "            print(\"You lost\")\n",
    "            game_over = True\n",
    "    \n",
    "    # all guessed\n",
    "    if \"_\" not in display_word:\n",
    "        print(\"You win\")\n",
    "        game_over = True\n",
    "print(\"The correct word: \" + secret_word)\n"
   ]
  }
 ],
 "metadata": {
  "kernelspec": {
   "display_name": "Python 3",
   "language": "python",
   "name": "python3"
  },
  "language_info": {
   "codemirror_mode": {
    "name": "ipython",
    "version": 3
   },
   "file_extension": ".py",
   "mimetype": "text/x-python",
   "name": "python",
   "nbconvert_exporter": "python",
   "pygments_lexer": "ipython3",
   "version": "3.12.4"
  }
 },
 "nbformat": 4,
 "nbformat_minor": 2
}
